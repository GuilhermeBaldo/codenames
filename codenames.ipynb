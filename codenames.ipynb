{
 "cells": [
  {
   "cell_type": "code",
   "execution_count": 1,
   "metadata": {},
   "outputs": [
    {
     "name": "stderr",
     "output_type": "stream",
     "text": [
      "/home/guilherme/git/codenames/.venv/lib/python3.12/site-packages/tqdm/auto.py:21: TqdmWarning: IProgress not found. Please update jupyter and ipywidgets. See https://ipywidgets.readthedocs.io/en/stable/user_install.html\n",
      "  from .autonotebook import tqdm as notebook_tqdm\n"
     ]
    }
   ],
   "source": [
    "import pandas as pd\n",
    "from enum import StrEnum\n",
    "from dataclasses import dataclass\n",
    "import pickle\n",
    "import os\n",
    "from sentence_transformers import SentenceTransformer\n",
    "import numpy as np\n",
    "from sklearn.metrics.pairwise import cosine_similarity\n",
    "\n",
    "BOARD_FILENAME = \"board.csv\"\n",
    "COLOR_COLUMN = \"color\"\n",
    "WORD_COLUMN = \"word\"\n",
    "\n",
    "VOCABULARY_FILENAME = \"words_alpha.txt\"\n",
    "VOCABULARY_EMBEDDINGS_FILENAME = \"vocabulary_embeddings.pkl\"\n",
    "\n",
    "EMBEDDING_MODEL = \"all-MiniLM-L6-v2\""
   ]
  },
  {
   "cell_type": "code",
   "execution_count": 12,
   "metadata": {},
   "outputs": [
    {
     "data": {
      "text/plain": [
       "Board(team_words=['sail', 'war', 'luck', 'shell', 'gum', 'turkey', 'director', 'earthquake'], enemy_words=['crab', 'box', 'bonsai', 'pillow', 'joan of arc', 'pentagon', 'second'], neutral_words=['england', 'astronaut', 'wake', 'taste', 'golf', 'mother', 'theater'], assassin_word='radio')"
      ]
     },
     "execution_count": 12,
     "metadata": {},
     "output_type": "execute_result"
    }
   ],
   "source": [
    "@dataclass\n",
    "class Board:\n",
    "    team_words: list[str]\n",
    "    enemy_words: list[str]\n",
    "    neutral_words: list[str]\n",
    "    assassin_word: str\n",
    "\n",
    "\n",
    "class Colors(StrEnum):\n",
    "    BLACK = \"black\"\n",
    "    BLUE = \"blue\"\n",
    "    RED = \"red\"\n",
    "    WHITE = \"white\"\n",
    "\n",
    "\n",
    "class TeamColor(StrEnum):\n",
    "    BLUE = Colors.BLUE\n",
    "    RED = Colors.RED\n",
    "\n",
    "\n",
    "def read_board(team_color: TeamColor, board_filename: str = BOARD_FILENAME) -> Board:\n",
    "    board_df = pd.read_csv(board_filename)\n",
    "    \n",
    "    if team_color == TeamColor.BLUE:\n",
    "        enemy_color = TeamColor.RED\n",
    "    else:\n",
    "        enemy_color = TeamColor.BLUE\n",
    "    \n",
    "    board = Board(\n",
    "        team_words=board_df[board_df[COLOR_COLUMN] == team_color][WORD_COLUMN].to_list(),\n",
    "        enemy_words=board_df[board_df[COLOR_COLUMN] == enemy_color][WORD_COLUMN].to_list(),\n",
    "        neutral_words=board_df[board_df[COLOR_COLUMN] == Colors.WHITE][WORD_COLUMN].to_list(),\n",
    "        assassin_word=board_df[board_df[COLOR_COLUMN] == Colors.BLACK][WORD_COLUMN].iloc[0],\n",
    "    )\n",
    "\n",
    "    return board\n",
    "\n",
    "board = read_board(team_color=TeamColor.BLUE)\n",
    "board"
   ]
  },
  {
   "cell_type": "code",
   "execution_count": 13,
   "metadata": {},
   "outputs": [],
   "source": [
    "def read_txt_as_list(filename):\n",
    "    words = []\n",
    "    with open(filename, 'r') as txtfile:\n",
    "        for line in txtfile:\n",
    "            word = line.strip()\n",
    "            words.append(word)\n",
    "    return words\n",
    "\n",
    "# TODO: Improve this to do proper caching based on the board parameter\n",
    "def get_vocabulary_embeddings(board: Board) -> dict:\n",
    "    if os.path.exists(VOCABULARY_EMBEDDINGS_FILENAME):\n",
    "        with open(VOCABULARY_EMBEDDINGS_FILENAME, 'rb') as f:\n",
    "            vocabulary_embeddings = pickle.load(f)\n",
    "            return vocabulary_embeddings\n",
    "    else:\n",
    "        embedder = SentenceTransformer(EMBEDDING_MODEL)\n",
    "        vocabulary = read_txt_as_list(VOCABULARY_FILENAME)\n",
    "        vocabulary.extend(board.team_words + board.enemy_words + board.neutral_words + [board.assassin_word])\n",
    "        embeddings = embedder.encode(vocabulary, normalize_embeddings=True)\n",
    "        vocabulary_embeddings = dict(zip(vocabulary, embeddings))\n",
    "        with open(VOCABULARY_EMBEDDINGS_FILENAME, 'wb') as f:\n",
    "            pickle.dump(vocabulary_embeddings, f)\n",
    "        return vocabulary_embeddings\n",
    "    \n",
    "vocabulary_embeddings = get_vocabulary_embeddings(board)"
   ]
  },
  {
   "cell_type": "code",
   "execution_count": 24,
   "metadata": {},
   "outputs": [
    {
     "name": "stdout",
     "output_type": "stream",
     "text": [
      "best clue so far: 'a' score: [[-0.25659236]]\n",
      "best clue so far: 'aa' score: [[-0.14256954]]\n",
      "best clue so far: 'aah' score: [[-0.1228091]]\n",
      "best clue so far: 'aahed' score: [[-0.10565453]]\n",
      "best clue so far: 'aahing' score: [[-0.04309511]]\n",
      "best clue so far: 'aam' score: [[-0.04012302]]\n",
      "best clue so far: 'aarrgh' score: [[-0.03938065]]\n",
      "best clue so far: 'aasvogel' score: [[-0.02438551]]\n",
      "best clue so far: 'aasvogels' score: [[0.01436937]]\n",
      "best clue so far: 'abacterial' score: [[0.01822604]]\n",
      "best clue so far: 'abaisance' score: [[0.01927333]]\n",
      "best clue so far: 'abamps' score: [[0.05959095]]\n",
      "best clue so far: 'abaptiston' score: [[0.08354449]]\n",
      "best clue so far: 'abattoirs' score: [[0.14845562]]\n",
      "best clue so far: 'acanthuridae' score: [[0.1612857]]\n",
      "best clue so far: 'acetylsalicylate' score: [[0.17160147]]\n",
      "best clue so far: 'aegithognathism' score: [[0.1741601]]\n",
      "best clue so far: 'amaranthaceae' score: [[0.18790522]]\n",
      "best clue so far: 'amphibiousness' score: [[0.21894301]]\n",
      "best clue so far: 'anchistopoda' score: [[0.23997042]]\n",
      "best clue so far: 'antivitalist' score: [[0.2772029]]\n",
      "best clue so far: 'foreclosure' score: [[0.3016553]]\n",
      "best clue so far: 'foreclosures' score: [[0.3290204]]\n",
      "best clue so far: 'viscoelasticity' score: [[0.34346268]]\n"
     ]
    },
    {
     "data": {
      "text/plain": [
       "'viscoelasticity'"
      ]
     },
     "execution_count": 24,
     "metadata": {},
     "output_type": "execute_result"
    }
   ],
   "source": [
    "def generate_clue(board: Board, vocabulary_embeddings: dict) -> str:\n",
    "    # Calculate the centroid for the team's words\n",
    "    team_centroid = np.mean([vocabulary_embeddings[word] for word in board.team_words], axis=0).reshape(1, -1)\n",
    "    \n",
    "    # Initialize variables to store the best clue found\n",
    "    best_clue = None\n",
    "    best_clue_score = -np.inf  # Start with a very low score\n",
    "\n",
    "    # Iterate over possible clue words in the embeddings vocabulary\n",
    "    for clue_word, clue_vector in vocabulary_embeddings.items():\n",
    "        # Skip if the clue word is any of the board words\n",
    "        if clue_word in board.team_words + board.enemy_words + board.neutral_words + [board.assassin_word]:\n",
    "            continue\n",
    "        \n",
    "        clue_vector = clue_vector.reshape(1, -1)\n",
    "        \n",
    "        # Calculate distances to other categories\n",
    "        enemy_dist = min([cosine_similarity(clue_vector, vocabulary_embeddings[word].reshape(1, -1)) for word in board.enemy_words])\n",
    "        neutral_dist = min([cosine_similarity(clue_vector, vocabulary_embeddings[word].reshape(1, -1)) for word in board.neutral_words])\n",
    "        assassin_dist = cosine_similarity(clue_vector, vocabulary_embeddings[board.assassin_word].reshape(1, -1))\n",
    "        \n",
    "        # Calculate score (example scoring, can be adjusted)\n",
    "        score = cosine_similarity(clue_vector, team_centroid) - enemy_dist - neutral_dist - assassin_dist\n",
    "        \n",
    "        # Update best clue if this clue has a better score\n",
    "        if score > best_clue_score:\n",
    "            best_clue = clue_word\n",
    "            best_clue_score = score\n",
    "            print(f\"best clue so far: '{best_clue}' score: {best_clue_score}\")\n",
    "\n",
    "    \n",
    "    return best_clue\n",
    "    \n",
    "clue = generate_clue(board, vocabulary_embeddings)\n",
    "clue"
   ]
  }
 ],
 "metadata": {
  "kernelspec": {
   "display_name": ".venv",
   "language": "python",
   "name": "python3"
  },
  "language_info": {
   "codemirror_mode": {
    "name": "ipython",
    "version": 3
   },
   "file_extension": ".py",
   "mimetype": "text/x-python",
   "name": "python",
   "nbconvert_exporter": "python",
   "pygments_lexer": "ipython3",
   "version": "3.12.3"
  }
 },
 "nbformat": 4,
 "nbformat_minor": 2
}
